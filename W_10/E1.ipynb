{
 "cells": [
  {
   "cell_type": "code",
   "execution_count": 7,
   "metadata": {
    "vscode": {
     "languageId": "r"
    }
   },
   "outputs": [
    {
     "data": {
      "text/html": [
       "<table>\n",
       "<thead><tr><th scope=col>Sepal.Length</th><th scope=col>Sepal.Width</th><th scope=col>Petal.Length</th><th scope=col>Petal.Width</th><th scope=col>Species</th></tr></thead>\n",
       "<tbody>\n",
       "\t<tr><td>5.1   </td><td>3.5   </td><td>1.4   </td><td>0.2   </td><td>setosa</td></tr>\n",
       "\t<tr><td>4.9   </td><td>3.0   </td><td>1.4   </td><td>0.2   </td><td>setosa</td></tr>\n",
       "\t<tr><td>4.7   </td><td>3.2   </td><td>1.3   </td><td>0.2   </td><td>setosa</td></tr>\n",
       "\t<tr><td>4.6   </td><td>3.1   </td><td>1.5   </td><td>0.2   </td><td>setosa</td></tr>\n",
       "\t<tr><td>5.0   </td><td>3.6   </td><td>1.4   </td><td>0.2   </td><td>setosa</td></tr>\n",
       "\t<tr><td>5.4   </td><td>3.9   </td><td>1.7   </td><td>0.4   </td><td>setosa</td></tr>\n",
       "</tbody>\n",
       "</table>\n"
      ],
      "text/latex": [
       "\\begin{tabular}{r|lllll}\n",
       " Sepal.Length & Sepal.Width & Petal.Length & Petal.Width & Species\\\\\n",
       "\\hline\n",
       "\t 5.1    & 3.5    & 1.4    & 0.2    & setosa\\\\\n",
       "\t 4.9    & 3.0    & 1.4    & 0.2    & setosa\\\\\n",
       "\t 4.7    & 3.2    & 1.3    & 0.2    & setosa\\\\\n",
       "\t 4.6    & 3.1    & 1.5    & 0.2    & setosa\\\\\n",
       "\t 5.0    & 3.6    & 1.4    & 0.2    & setosa\\\\\n",
       "\t 5.4    & 3.9    & 1.7    & 0.4    & setosa\\\\\n",
       "\\end{tabular}\n"
      ],
      "text/markdown": [
       "\n",
       "| Sepal.Length | Sepal.Width | Petal.Length | Petal.Width | Species |\n",
       "|---|---|---|---|---|\n",
       "| 5.1    | 3.5    | 1.4    | 0.2    | setosa |\n",
       "| 4.9    | 3.0    | 1.4    | 0.2    | setosa |\n",
       "| 4.7    | 3.2    | 1.3    | 0.2    | setosa |\n",
       "| 4.6    | 3.1    | 1.5    | 0.2    | setosa |\n",
       "| 5.0    | 3.6    | 1.4    | 0.2    | setosa |\n",
       "| 5.4    | 3.9    | 1.7    | 0.4    | setosa |\n",
       "\n"
      ],
      "text/plain": [
       "  Sepal.Length Sepal.Width Petal.Length Petal.Width Species\n",
       "1 5.1          3.5         1.4          0.2         setosa \n",
       "2 4.9          3.0         1.4          0.2         setosa \n",
       "3 4.7          3.2         1.3          0.2         setosa \n",
       "4 4.6          3.1         1.5          0.2         setosa \n",
       "5 5.0          3.6         1.4          0.2         setosa \n",
       "6 5.4          3.9         1.7          0.4         setosa "
      ]
     },
     "metadata": {},
     "output_type": "display_data"
    }
   ],
   "source": [
    "data(iris)\n",
    "\n",
    "head(iris)"
   ]
  },
  {
   "cell_type": "code",
   "execution_count": 8,
   "metadata": {
    "vscode": {
     "languageId": "r"
    }
   },
   "outputs": [
    {
     "name": "stdout",
     "output_type": "stream",
     "text": [
      "'data.frame':\t150 obs. of  5 variables:\n",
      " $ Sepal.Length: num  5.1 4.9 4.7 4.6 5 5.4 4.6 5 4.4 4.9 ...\n",
      " $ Sepal.Width : num  3.5 3 3.2 3.1 3.6 3.9 3.4 3.4 2.9 3.1 ...\n",
      " $ Petal.Length: num  1.4 1.4 1.3 1.5 1.4 1.7 1.4 1.5 1.4 1.5 ...\n",
      " $ Petal.Width : num  0.2 0.2 0.2 0.2 0.2 0.4 0.3 0.2 0.2 0.1 ...\n",
      " $ Species     : Factor w/ 3 levels \"setosa\",\"versicolor\",..: 1 1 1 1 1 1 1 1 1 1 ...\n"
     ]
    }
   ],
   "source": [
    "str(iris)"
   ]
  },
  {
   "cell_type": "code",
   "execution_count": 9,
   "metadata": {
    "vscode": {
     "languageId": "r"
    }
   },
   "outputs": [
    {
     "data": {
      "text/plain": [
       "  Sepal.Length    Sepal.Width     Petal.Length    Petal.Width   \n",
       " Min.   :4.300   Min.   :2.000   Min.   :1.000   Min.   :0.100  \n",
       " 1st Qu.:5.100   1st Qu.:2.800   1st Qu.:1.600   1st Qu.:0.300  \n",
       " Median :5.800   Median :3.000   Median :4.350   Median :1.300  \n",
       " Mean   :5.843   Mean   :3.057   Mean   :3.758   Mean   :1.199  \n",
       " 3rd Qu.:6.400   3rd Qu.:3.300   3rd Qu.:5.100   3rd Qu.:1.800  \n",
       " Max.   :7.900   Max.   :4.400   Max.   :6.900   Max.   :2.500  \n",
       "       Species  \n",
       " setosa    :50  \n",
       " versicolor:50  \n",
       " virginica :50  \n",
       "                \n",
       "                \n",
       "                "
      ]
     },
     "metadata": {},
     "output_type": "display_data"
    }
   ],
   "source": [
    "summary(iris)"
   ]
  },
  {
   "cell_type": "code",
   "execution_count": 11,
   "metadata": {
    "vscode": {
     "languageId": "r"
    }
   },
   "outputs": [
    {
     "data": {
      "text/html": [
       "<ol class=list-inline>\n",
       "\t<li>'Sepal.Length'</li>\n",
       "\t<li>'Sepal.Width'</li>\n",
       "\t<li>'Petal.Length'</li>\n",
       "\t<li>'Petal.Width'</li>\n",
       "\t<li>'Species'</li>\n",
       "</ol>\n"
      ],
      "text/latex": [
       "\\begin{enumerate*}\n",
       "\\item 'Sepal.Length'\n",
       "\\item 'Sepal.Width'\n",
       "\\item 'Petal.Length'\n",
       "\\item 'Petal.Width'\n",
       "\\item 'Species'\n",
       "\\end{enumerate*}\n"
      ],
      "text/markdown": [
       "1. 'Sepal.Length'\n",
       "2. 'Sepal.Width'\n",
       "3. 'Petal.Length'\n",
       "4. 'Petal.Width'\n",
       "5. 'Species'\n",
       "\n",
       "\n"
      ],
      "text/plain": [
       "[1] \"Sepal.Length\" \"Sepal.Width\"  \"Petal.Length\" \"Petal.Width\"  \"Species\"     "
      ]
     },
     "metadata": {},
     "output_type": "display_data"
    }
   ],
   "source": [
    "names(iris)"
   ]
  },
  {
   "cell_type": "code",
   "execution_count": 12,
   "metadata": {
    "vscode": {
     "languageId": "r"
    }
   },
   "outputs": [
    {
     "data": {
      "text/html": [
       "<ol class=list-inline>\n",
       "\t<li>setosa</li>\n",
       "\t<li>versicolor</li>\n",
       "\t<li>virginica</li>\n",
       "</ol>\n",
       "\n",
       "<details>\n",
       "\t<summary style=display:list-item;cursor:pointer>\n",
       "\t\t<strong>Levels</strong>:\n",
       "\t</summary>\n",
       "\t<ol class=list-inline>\n",
       "\t\t<li>'setosa'</li>\n",
       "\t\t<li>'versicolor'</li>\n",
       "\t\t<li>'virginica'</li>\n",
       "\t</ol>\n",
       "</details>"
      ],
      "text/latex": [
       "\\begin{enumerate*}\n",
       "\\item setosa\n",
       "\\item versicolor\n",
       "\\item virginica\n",
       "\\end{enumerate*}\n",
       "\n",
       "\\emph{Levels}: \\begin{enumerate*}\n",
       "\\item 'setosa'\n",
       "\\item 'versicolor'\n",
       "\\item 'virginica'\n",
       "\\end{enumerate*}\n"
      ],
      "text/markdown": [
       "1. setosa\n",
       "2. versicolor\n",
       "3. virginica\n",
       "\n",
       "\n",
       "\n",
       "**Levels**: 1. 'setosa'\n",
       "2. 'versicolor'\n",
       "3. 'virginica'\n",
       "\n",
       "\n"
      ],
      "text/plain": [
       "[1] setosa     versicolor virginica \n",
       "Levels: setosa versicolor virginica"
      ]
     },
     "metadata": {},
     "output_type": "display_data"
    }
   ],
   "source": [
    "unique(iris$Species)"
   ]
  },
  {
   "cell_type": "code",
   "execution_count": 13,
   "metadata": {
    "vscode": {
     "languageId": "r"
    }
   },
   "outputs": [
    {
     "data": {
      "text/html": [
       "3.758"
      ],
      "text/latex": [
       "3.758"
      ],
      "text/markdown": [
       "3.758"
      ],
      "text/plain": [
       "[1] 3.758"
      ]
     },
     "metadata": {},
     "output_type": "display_data"
    }
   ],
   "source": [
    "mean(iris$Petal.Length)"
   ]
  },
  {
   "cell_type": "code",
   "execution_count": 33,
   "metadata": {
    "vscode": {
     "languageId": "r"
    }
   },
   "outputs": [
    {
     "data": {
      "image/png": "[encoded data removed]",
      "text/plain": [
       "Plot with title \"Diagrama de Dispersión Personalizado\""
      ]
     },
     "metadata": {
      "image/png": {
       "height": 480,
       "width": 600
      }
     },
     "output_type": "display_data"
    }
   ],
   "source": [
    "x=iris$Petal.Length\n",
    "y=iris$Petal.Width\n",
    "\n",
    "plot(x, y, main = \"Diagrama de Dispersión Personalizado\",\n",
    "     xlab = \"Petal Length\", ylab = \"Petal Width\",\n",
    "     pch = 19, col = c(\"red\", \"green\", \"blue\")[as.numeric(iris$Species)])  # pch define la forma del punto, col define el color\n",
    "\n",
    "legend(\"topleft\", legend = levels(iris$Species), col = c(\"red\", \"green\", \"blue\"),\n",
    "       pch = 1, title = \"Especies\", cex = 1.2)"
   ]
  },
  {
   "cell_type": "code",
   "execution_count": 34,
   "metadata": {
    "vscode": {
     "languageId": "r"
    }
   },
   "outputs": [
    {
     "data": {
      "image/png": "[encoded data removed]",
      "text/plain": [
       "Plot with title \"Histograma de la Longitud del Sépalo\""
      ]
     },
     "metadata": {
      "image/png": {
       "height": 480,
       "width": 600
      }
     },
     "output_type": "display_data"
    }
   ],
   "source": [
    "hist(iris$Sepal.Length,\n",
    "     main = \"Histograma de la Longitud del Sépalo\",\n",
    "     xlab = \"Longitud del Sépalo (cm)\",\n",
    "     col = \"lightblue\",\n",
    "     border = \"black\")\n"
   ]
  },
  {
   "cell_type": "code",
   "execution_count": 36,
   "metadata": {
    "vscode": {
     "languageId": "r"
    }
   },
   "outputs": [
    {
     "name": "stderr",
     "output_type": "stream",
     "text": [
      "Registered S3 methods overwritten by 'ggplot2':\n",
      "  method         from \n",
      "  [.quosures     rlang\n",
      "  c.quosures     rlang\n",
      "  print.quosures rlang\n",
      "\n"
     ]
    }
   ],
   "source": [
    "library(ggplot2)"
   ]
  },
  {
   "cell_type": "code",
   "execution_count": 50,
   "metadata": {
    "vscode": {
     "languageId": "r"
    }
   },
   "outputs": [
    {
     "data": {
      "text/html": [
       "150"
      ],
      "text/latex": [
       "150"
      ],
      "text/markdown": [
       "150"
      ],
      "text/plain": [
       "[1] 150"
      ]
     },
     "metadata": {},
     "output_type": "display_data"
    },
    {
     "data": {
      "text/html": [
       "9"
      ],
      "text/latex": [
       "9"
      ],
      "text/markdown": [
       "9"
      ],
      "text/plain": [
       "[1] 9"
      ]
     },
     "metadata": {},
     "output_type": "display_data"
    }
   ],
   "source": [
    "n <- length(iris$Sepal.Length)                   # Tamaño de la muestra\n",
    "k <- ceiling(log2(n) + 1)  \n",
    "n\n",
    "k"
   ]
  },
  {
   "cell_type": "code",
   "execution_count": 48,
   "metadata": {
    "vscode": {
     "languageId": "r"
    }
   },
   "outputs": [],
   "source": [
    "num_bins <- 9\n",
    "bin_width <- (max(iris$Sepal.Length) - min(iris$Sepal.Length)) / num_bins\n"
   ]
  },
  {
   "cell_type": "code",
   "execution_count": 49,
   "metadata": {
    "vscode": {
     "languageId": "r"
    }
   },
   "outputs": [
    {
     "data": {
      "image/png": "[encoded data removed]",
      "text/plain": [
       "plot without title"
      ]
     },
     "metadata": {
      "image/png": {
       "height": 480,
       "width": 600
      }
     },
     "output_type": "display_data"
    }
   ],
   "source": [
    "ggplot(iris, aes(x = Sepal.Length)) +\n",
    "  geom_histogram(binwidth =bin_width, fill = \"yellowgreen\", color = \"orange\") +\n",
    "  labs(title = \"Histograma de la Longitud del Sépalo\",\n",
    "       x = \"Longitud del Sépalo (cm)\",\n",
    "       y = \"Frecuencia\") +\n",
    "  theme_minimal()"
   ]
  },
  {
   "cell_type": "code",
   "execution_count": 52,
   "metadata": {
    "vscode": {
     "languageId": "r"
    }
   },
   "outputs": [
    {
     "data": {
      "image/png": "[encoded data removed]",
      "text/plain": [
       "plot without title"
      ]
     },
     "metadata": {
      "image/png": {
       "height": 480,
       "width": 600
      }
     },
     "output_type": "display_data"
    }
   ],
   "source": [
    "# Crear un boxplot básico\n",
    "ggplot(iris, aes(x = Species, y = Sepal.Width, fill=Species)) +\n",
    "  geom_boxplot() +\n",
    "  labs(title = \"Gráfico de Caja y Bigotes de Sepal.Length\",\n",
    "       x = \"Especie\", y = \"Longitud del Sépalo (cm)\") +\n",
    "  theme_minimal()\n"
   ]
  },
  {
   "cell_type": "code",
   "execution_count": 55,
   "metadata": {
    "vscode": {
     "languageId": "r"
    }
   },
   "outputs": [
    {
     "data": {
      "image/png": "[encoded data removed]",
      "text/plain": [
       "plot without title"
      ]
     },
     "metadata": {
      "image/png": {
       "height": 480,
       "width": 600
      }
     },
     "output_type": "display_data"
    }
   ],
   "source": [
    "# Gráfico de dispersión con línea de tendencia\n",
    "ggplot(iris, aes(x = Sepal.Length, y = Petal.Width)) +\n",
    "  geom_point(aes(color = Species), size = 2) +  # Puntos coloreados por especie\n",
    "  geom_smooth(method = \"lm\", se = TRUE, color = \"black\") +  # Línea de tendencia\n",
    "  labs(title = \"Gráfico de Dispersión con Línea de Tendencia\",\n",
    "       x = \"Longitud del Sépalo (cm)\", y = \"Ancho del Petalo (cm)\") +\n",
    "  theme_minimal()\n"
   ]
  },
  {
   "cell_type": "code",
   "execution_count": 59,
   "metadata": {
    "vscode": {
     "languageId": "r"
    }
   },
   "outputs": [
    {
     "name": "stdout",
     "output_type": "stream",
     "text": [
      "[1] \"La correlación es: 0.872\"\n"
     ]
    }
   ],
   "source": [
    "v1 <- iris$Petal.Length \n",
    "v2 <- iris$Sepal.Length\n",
    "\n",
    "Corr <- cor(v1,v2)\n",
    "\n",
    "\n",
    "print(paste(\"La correlación es:\", round(Corr, 3)))"
   ]
  },
  {
   "cell_type": "code",
   "execution_count": 65,
   "metadata": {
    "vscode": {
     "languageId": "r"
    }
   },
   "outputs": [],
   "source": [
    "# Gráfico de dispersión con línea de tendencia\n",
    "graph <- ggplot(iris, aes(x = Sepal.Length, y = Petal.Width)) +\n",
    "  geom_point(aes(color = Species), size = 2) +  # Puntos coloreados por especie\n",
    "  geom_smooth(method = \"lm\", se = TRUE, color = \"black\") +  # Línea de tendencia\n",
    "  labs(title = \"Gráfico de Dispersión con Línea de Tendencia\",\n",
    "       x = \"Longitud del Sépalo (cm)\", y = \"Ancho del Petalo (cm)\") +\n",
    "  theme_minimal()\n",
    "\n",
    "\n",
    "ggsave(filename = \"grafico1.png\", plot = graph, width = 12, height = 10, dpi = 600)"
   ]
  },
  {
   "cell_type": "markdown",
   "metadata": {},
   "source": [
    "datos <- read.csv(\"\")"
   ]
  },
  {
   "cell_type": "code",
   "execution_count": 68,
   "metadata": {
    "vscode": {
     "languageId": "r"
    }
   },
   "outputs": [
    {
     "data": {
      "text/html": [
       "<table>\n",
       "<thead><tr><th scope=col>Id</th><th scope=col>SepalLengthCm</th><th scope=col>SepalWidthCm</th><th scope=col>PetalLengthCm</th><th scope=col>PetalWidthCm</th><th scope=col>Species</th></tr></thead>\n",
       "<tbody>\n",
       "\t<tr><td> 1         </td><td>5.1        </td><td>3.5        </td><td>1.4        </td><td>0.2        </td><td>Iris-setosa</td></tr>\n",
       "\t<tr><td> 2         </td><td>4.9        </td><td>3.0        </td><td>1.4        </td><td>0.2        </td><td>Iris-setosa</td></tr>\n",
       "\t<tr><td> 3         </td><td>4.7        </td><td>3.2        </td><td>1.3        </td><td>0.2        </td><td>Iris-setosa</td></tr>\n",
       "\t<tr><td> 4         </td><td>4.6        </td><td>3.1        </td><td>1.5        </td><td>0.2        </td><td>Iris-setosa</td></tr>\n",
       "\t<tr><td> 5         </td><td>5.0        </td><td>3.6        </td><td>1.4        </td><td>0.2        </td><td>Iris-setosa</td></tr>\n",
       "\t<tr><td> 6         </td><td>5.4        </td><td>3.9        </td><td>1.7        </td><td>0.4        </td><td>Iris-setosa</td></tr>\n",
       "\t<tr><td> 7         </td><td>4.6        </td><td>3.4        </td><td>1.4        </td><td>0.3        </td><td>Iris-setosa</td></tr>\n",
       "\t<tr><td> 8         </td><td>5.0        </td><td>3.4        </td><td>1.5        </td><td>0.2        </td><td>Iris-setosa</td></tr>\n",
       "\t<tr><td> 9         </td><td>4.4        </td><td>2.9        </td><td>1.4        </td><td>0.2        </td><td>Iris-setosa</td></tr>\n",
       "\t<tr><td>10         </td><td>4.9        </td><td>3.1        </td><td>1.5        </td><td>0.1        </td><td>Iris-setosa</td></tr>\n",
       "</tbody>\n",
       "</table>\n"
      ],
      "text/latex": [
       "\\begin{tabular}{r|llllll}\n",
       " Id & SepalLengthCm & SepalWidthCm & PetalLengthCm & PetalWidthCm & Species\\\\\n",
       "\\hline\n",
       "\t  1          & 5.1         & 3.5         & 1.4         & 0.2         & Iris-setosa\\\\\n",
       "\t  2          & 4.9         & 3.0         & 1.4         & 0.2         & Iris-setosa\\\\\n",
       "\t  3          & 4.7         & 3.2         & 1.3         & 0.2         & Iris-setosa\\\\\n",
       "\t  4          & 4.6         & 3.1         & 1.5         & 0.2         & Iris-setosa\\\\\n",
       "\t  5          & 5.0         & 3.6         & 1.4         & 0.2         & Iris-setosa\\\\\n",
       "\t  6          & 5.4         & 3.9         & 1.7         & 0.4         & Iris-setosa\\\\\n",
       "\t  7          & 4.6         & 3.4         & 1.4         & 0.3         & Iris-setosa\\\\\n",
       "\t  8          & 5.0         & 3.4         & 1.5         & 0.2         & Iris-setosa\\\\\n",
       "\t  9          & 4.4         & 2.9         & 1.4         & 0.2         & Iris-setosa\\\\\n",
       "\t 10          & 4.9         & 3.1         & 1.5         & 0.1         & Iris-setosa\\\\\n",
       "\\end{tabular}\n"
      ],
      "text/markdown": [
       "\n",
       "| Id | SepalLengthCm | SepalWidthCm | PetalLengthCm | PetalWidthCm | Species |\n",
       "|---|---|---|---|---|---|\n",
       "|  1          | 5.1         | 3.5         | 1.4         | 0.2         | Iris-setosa |\n",
       "|  2          | 4.9         | 3.0         | 1.4         | 0.2         | Iris-setosa |\n",
       "|  3          | 4.7         | 3.2         | 1.3         | 0.2         | Iris-setosa |\n",
       "|  4          | 4.6         | 3.1         | 1.5         | 0.2         | Iris-setosa |\n",
       "|  5          | 5.0         | 3.6         | 1.4         | 0.2         | Iris-setosa |\n",
       "|  6          | 5.4         | 3.9         | 1.7         | 0.4         | Iris-setosa |\n",
       "|  7          | 4.6         | 3.4         | 1.4         | 0.3         | Iris-setosa |\n",
       "|  8          | 5.0         | 3.4         | 1.5         | 0.2         | Iris-setosa |\n",
       "|  9          | 4.4         | 2.9         | 1.4         | 0.2         | Iris-setosa |\n",
       "| 10          | 4.9         | 3.1         | 1.5         | 0.1         | Iris-setosa |\n",
       "\n"
      ],
      "text/plain": [
       "   Id SepalLengthCm SepalWidthCm PetalLengthCm PetalWidthCm Species    \n",
       "1   1 5.1           3.5          1.4           0.2          Iris-setosa\n",
       "2   2 4.9           3.0          1.4           0.2          Iris-setosa\n",
       "3   3 4.7           3.2          1.3           0.2          Iris-setosa\n",
       "4   4 4.6           3.1          1.5           0.2          Iris-setosa\n",
       "5   5 5.0           3.6          1.4           0.2          Iris-setosa\n",
       "6   6 5.4           3.9          1.7           0.4          Iris-setosa\n",
       "7   7 4.6           3.4          1.4           0.3          Iris-setosa\n",
       "8   8 5.0           3.4          1.5           0.2          Iris-setosa\n",
       "9   9 4.4           2.9          1.4           0.2          Iris-setosa\n",
       "10 10 4.9           3.1          1.5           0.1          Iris-setosa"
      ]
     },
     "metadata": {},
     "output_type": "display_data"
    }
   ],
   "source": [
    "datos <- read.csv(\"Iris.csv\")\n",
    "\n",
    "head(datos,10)\n"
   ]
  },
  {
   "cell_type": "code",
   "execution_count": 73,
   "metadata": {
    "vscode": {
     "languageId": "r"
    }
   },
   "outputs": [
    {
     "data": {
      "text/html": [
       "<table>\n",
       "<thead><tr><th scope=col>SepalLengthCm</th><th scope=col>SepalWidthCm</th><th scope=col>PetalLengthCm</th><th scope=col>PetalWidthCm</th></tr></thead>\n",
       "<tbody>\n",
       "\t<tr><td>5.1</td><td>3.5</td><td>1.4</td><td>0.2</td></tr>\n",
       "\t<tr><td>4.9</td><td>3.0</td><td>1.4</td><td>0.2</td></tr>\n",
       "\t<tr><td>4.7</td><td>3.2</td><td>1.3</td><td>0.2</td></tr>\n",
       "\t<tr><td>4.6</td><td>3.1</td><td>1.5</td><td>0.2</td></tr>\n",
       "\t<tr><td>5.0</td><td>3.6</td><td>1.4</td><td>0.2</td></tr>\n",
       "\t<tr><td>5.4</td><td>3.9</td><td>1.7</td><td>0.4</td></tr>\n",
       "\t<tr><td>4.6</td><td>3.4</td><td>1.4</td><td>0.3</td></tr>\n",
       "\t<tr><td>5.0</td><td>3.4</td><td>1.5</td><td>0.2</td></tr>\n",
       "\t<tr><td>4.4</td><td>2.9</td><td>1.4</td><td>0.2</td></tr>\n",
       "\t<tr><td>4.9</td><td>3.1</td><td>1.5</td><td>0.1</td></tr>\n",
       "</tbody>\n",
       "</table>\n"
      ],
      "text/latex": [
       "\\begin{tabular}{r|llll}\n",
       " SepalLengthCm & SepalWidthCm & PetalLengthCm & PetalWidthCm\\\\\n",
       "\\hline\n",
       "\t 5.1 & 3.5 & 1.4 & 0.2\\\\\n",
       "\t 4.9 & 3.0 & 1.4 & 0.2\\\\\n",
       "\t 4.7 & 3.2 & 1.3 & 0.2\\\\\n",
       "\t 4.6 & 3.1 & 1.5 & 0.2\\\\\n",
       "\t 5.0 & 3.6 & 1.4 & 0.2\\\\\n",
       "\t 5.4 & 3.9 & 1.7 & 0.4\\\\\n",
       "\t 4.6 & 3.4 & 1.4 & 0.3\\\\\n",
       "\t 5.0 & 3.4 & 1.5 & 0.2\\\\\n",
       "\t 4.4 & 2.9 & 1.4 & 0.2\\\\\n",
       "\t 4.9 & 3.1 & 1.5 & 0.1\\\\\n",
       "\\end{tabular}\n"
      ],
      "text/markdown": [
       "\n",
       "| SepalLengthCm | SepalWidthCm | PetalLengthCm | PetalWidthCm |\n",
       "|---|---|---|---|\n",
       "| 5.1 | 3.5 | 1.4 | 0.2 |\n",
       "| 4.9 | 3.0 | 1.4 | 0.2 |\n",
       "| 4.7 | 3.2 | 1.3 | 0.2 |\n",
       "| 4.6 | 3.1 | 1.5 | 0.2 |\n",
       "| 5.0 | 3.6 | 1.4 | 0.2 |\n",
       "| 5.4 | 3.9 | 1.7 | 0.4 |\n",
       "| 4.6 | 3.4 | 1.4 | 0.3 |\n",
       "| 5.0 | 3.4 | 1.5 | 0.2 |\n",
       "| 4.4 | 2.9 | 1.4 | 0.2 |\n",
       "| 4.9 | 3.1 | 1.5 | 0.1 |\n",
       "\n"
      ],
      "text/plain": [
       "   SepalLengthCm SepalWidthCm PetalLengthCm PetalWidthCm\n",
       "1  5.1           3.5          1.4           0.2         \n",
       "2  4.9           3.0          1.4           0.2         \n",
       "3  4.7           3.2          1.3           0.2         \n",
       "4  4.6           3.1          1.5           0.2         \n",
       "5  5.0           3.6          1.4           0.2         \n",
       "6  5.4           3.9          1.7           0.4         \n",
       "7  4.6           3.4          1.4           0.3         \n",
       "8  5.0           3.4          1.5           0.2         \n",
       "9  4.4           2.9          1.4           0.2         \n",
       "10 4.9           3.1          1.5           0.1         "
      ]
     },
     "metadata": {},
     "output_type": "display_data"
    },
    {
     "data": {
      "text/plain": [
       " SepalLengthCm    SepalWidthCm   PetalLengthCm    PetalWidthCm  \n",
       " Min.   :4.300   Min.   :2.000   Min.   :1.000   Min.   :0.100  \n",
       " 1st Qu.:5.100   1st Qu.:2.800   1st Qu.:1.600   1st Qu.:0.300  \n",
       " Median :5.800   Median :3.000   Median :4.350   Median :1.300  \n",
       " Mean   :5.843   Mean   :3.054   Mean   :3.759   Mean   :1.199  \n",
       " 3rd Qu.:6.400   3rd Qu.:3.300   3rd Qu.:5.100   3rd Qu.:1.800  \n",
       " Max.   :7.900   Max.   :4.400   Max.   :6.900   Max.   :2.500  "
      ]
     },
     "metadata": {},
     "output_type": "display_data"
    }
   ],
   "source": [
    "datos_num= datos[,2:5]\n",
    "\n",
    "head(datos_num,10)\n",
    "\n",
    "summary(datos_num)"
   ]
  },
  {
   "cell_type": "code",
   "execution_count": 77,
   "metadata": {
    "vscode": {
     "languageId": "r"
    }
   },
   "outputs": [],
   "source": [
    "# Gráfico de dispersión con línea de tendencia\n",
    "g_2 <- ggplot(iris, aes(x = Sepal.Length, y = Petal.Width)) +\n",
    "  geom_point(aes(color = Species), size = 2) +  # Puntos coloreados por especie\n",
    "  geom_smooth(method = \"lm\", se = TRUE, color = \"black\") +  # Línea de tendencia\n",
    "  labs(title = \"Gráfico de Dispersión con Línea de Tendencia\",\n",
    "       x = \"Longitud del Sépalo (cm)\", y = \"Ancho del Petalo (cm)\") +\n",
    "  theme_minimal() + \n",
    "  theme(\n",
    "    plot.title = element_text(size = 20, face = \"bold\"),  # Título principal\n",
    "    axis.title = element_text(size = 16),               # Etiquetas de los ejes\n",
    "    axis.text = element_text(size = 14),                # Números en los ejes\n",
    "    legend.text = element_text(size = 12),              # Texto de la leyenda\n",
    "    legend.title = element_text(size = 14)              # Título de la leyenda\n",
    "  )\n",
    "\n",
    "\n",
    "ggsave(filename = \"grafico_mod.pdf\", plot = g_2, width = 12, height = 10, dpi = 600)\n"
   ]
  }
 ],
 "metadata": {
  "kernelspec": {
   "display_name": "R",
   "language": "R",
   "name": "ir"
  },
  "language_info": {
   "codemirror_mode": "r",
   "file_extension": ".r",
   "mimetype": "text/x-r-source",
   "name": "R",
   "pygments_lexer": "r",
   "version": "3.6.1"
  }
 },
 "nbformat": 4,
 "nbformat_minor": 2
}
